{
 "cells": [
  {
   "cell_type": "code",
   "execution_count": 7,
   "metadata": {},
   "outputs": [
    {
     "name": "stdout",
     "output_type": "stream",
     "text": [
      "[[24.000002  28.000002  32.000004  36.000004 ]\n",
      " [54.000004  38.000004  22.000002   6.0000005]\n",
      " [36.000004  32.000004  28.000002  24.000002 ]\n",
      " [ 6.0000005 22.000002  38.000004  54.000004 ]]\n",
      "[24. 28. 32. 36.]\n",
      "[ 6. 22. 38. 54.]\n"
     ]
    }
   ],
   "source": [
    "import numpy as np\n",
    "import torch\n",
    "from torch_radon import Radon\n",
    "import matplotlib.pyplot as plt\n",
    "\n",
    "s = 4\n",
    "\n",
    "x = np.arange(0, s*s).astype(np.float32).reshape(s, s)\n",
    "angles = np.asarray([0, np.pi/2, np.pi, -np.pi/2])\n",
    "\n",
    "tx = torch.FloatTensor(x).cuda()\n",
    "radon = Radon(s, angles)\n",
    "\n",
    "y = radon.forward(tx).cpu().numpy()\n",
    "\n",
    "print(y)\n",
    "print(np.sum(x, axis=0))\n",
    "print(np.sum(x, axis=1))"
   ]
  },
  {
   "cell_type": "code",
   "execution_count": null,
   "metadata": {},
   "outputs": [],
   "source": []
  }
 ],
 "metadata": {
  "kernelspec": {
   "display_name": "Python 3",
   "language": "python",
   "name": "python3"
  },
  "language_info": {
   "codemirror_mode": {
    "name": "ipython",
    "version": 3
   },
   "file_extension": ".py",
   "mimetype": "text/x-python",
   "name": "python",
   "nbconvert_exporter": "python",
   "pygments_lexer": "ipython3",
   "version": "3.7.7"
  }
 },
 "nbformat": 4,
 "nbformat_minor": 4
}
