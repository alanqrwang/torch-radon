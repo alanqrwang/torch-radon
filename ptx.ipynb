{
 "cells": [
  {
   "cell_type": "code",
   "execution_count": 1,
   "metadata": {},
   "outputs": [],
   "source": [
    "import re\n",
    "\n",
    "def readlines(path):\n",
    "    with open(path, \"r\") as f:\n",
    "        return f.readlines()    \n",
    "\n",
    "path = \"/home/matteo/projects/torch-radon/intermediates/backprojection.compute_60.ptx\"\n",
    "\n",
    "lines = readlines(path)\n",
    "\n",
    "files = dict()\n",
    "for line in lines:\n",
    "    line = line.strip(\" \\t\\n\")\n",
    "    \n",
    "    m = re.match(r'\\.file\\s*([0-9]+)\\s*\"([^\"]+)\".*', line)\n",
    "    if m:\n",
    "        files[m.group(1)] = readlines(m.group(2))"
   ]
  },
  {
   "cell_type": "code",
   "execution_count": 2,
   "metadata": {},
   "outputs": [],
   "source": [
    "from demangler import demangle\n",
    "import struct\n",
    "\n",
    "def hex_to_float(h):\n",
    "    return struct.unpack('!f', bytes.fromhex(h))[0]\n",
    "\n",
    "def remove_tabs(txt):\n",
    "    for i in range(len(txt)):\n",
    "        if txt[i] not in [\"\\t\", \" \"]:\n",
    "            return txt[i:], i\n",
    "\n",
    "kernels = []\n",
    "dst_lines = []\n",
    "\n",
    "for line in lines:\n",
    "    line = line.strip(\" \\t\\n\")\n",
    "    m = re.match(r'\\.visible\\s*\\.entry\\s*([^(]+)', line)\n",
    "    if m:\n",
    "        kernel = demangle(m.group(1))\n",
    "        line = f\"// {kernel}\\n{line}\"\n",
    "        kernels.append(kernel)\n",
    "        \n",
    "    m = re.match(r'\\.loc\\s*([0-9]+)\\s*([0-9]+)\\s*([0-9]+)', line)\n",
    "    if m:\n",
    "        file_id = m.group(1)\n",
    "        line_n = int(m.group(2))\n",
    "        column = int(m.group(3))\n",
    "        src_txt, n_tabs = remove_tabs(files[file_id][line_n-1])\n",
    "        column -= n_tabs + 1\n",
    "        line = f\"\\n// {src_txt}// {' '*column}^\\n{line}\"\n",
    "        \n",
    "    m = re.match(r'.*0f([0-9a-fA-F]{8})', line)\n",
    "    if m:\n",
    "        hexv = m.group(1)\n",
    "        line = f\"// {hexv} = {hex_to_float(hexv)}f\\n{line}\"\n",
    "    \n",
    "    dst_lines.append(line)\n",
    "\n",
    "with open(\"res.ptx\", \"w\") as f:\n",
    "    f.write(\"\\n\".join(dst_lines))"
   ]
  },
  {
   "cell_type": "code",
   "execution_count": null,
   "metadata": {},
   "outputs": [],
   "source": []
  },
  {
   "cell_type": "code",
   "execution_count": null,
   "metadata": {},
   "outputs": [],
   "source": []
  }
 ],
 "metadata": {
  "kernelspec": {
   "display_name": "Python 3",
   "language": "python",
   "name": "python3"
  },
  "language_info": {
   "codemirror_mode": {
    "name": "ipython",
    "version": 3
   },
   "file_extension": ".py",
   "mimetype": "text/x-python",
   "name": "python",
   "nbconvert_exporter": "python",
   "pygments_lexer": "ipython3",
   "version": "3.7.7"
  }
 },
 "nbformat": 4,
 "nbformat_minor": 4
}
